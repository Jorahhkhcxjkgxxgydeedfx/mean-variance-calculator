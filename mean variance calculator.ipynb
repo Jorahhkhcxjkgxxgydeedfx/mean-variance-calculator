{
 "cells": [
  {
   "cell_type": "code",
   "execution_count": 2,
   "id": "6b0e0908-af3b-432c-9fba-2789317edd7a",
   "metadata": {},
   "outputs": [
    {
     "name": "stdout",
     "output_type": "stream",
     "text": [
      "Result: {'mean': [[3.0, 4.0, 5.0], [1.0, 4.0, 7.0], 4.0], 'variance': [[6.0, 6.0, 6.0], [0.6666666666666666, 0.6666666666666666, 0.6666666666666666], 6.666666666666667], 'standard deviation': [[2.449489742783178, 2.449489742783178, 2.449489742783178], [0.816496580927726, 0.816496580927726, 0.816496580927726], 2.581988897471611], 'max': [[6, 7, 8], [2, 5, 8], 8], 'min': [[0, 1, 2], [0, 3, 6], 0], 'sum': [[9, 12, 15], [3, 12, 21], 36]}\n"
     ]
    }
   ],
   "source": [
    "# Importing the required library\n",
    "import numpy as np\n",
    "\n",
    "# Define the calculate function\n",
    "def calculate(input_list):\n",
    "    # Check if the input list has exactly 9 numbers\n",
    "    if len(input_list) != 9:\n",
    "        raise ValueError(\"List must contain nine numbers.\")\n",
    "    \n",
    "    # Convert the list into a 3x3 Numpy array\n",
    "    matrix = np.array(input_list).reshape(3, 3)\n",
    "    \n",
    "    # Compute statistics along axis-0 (columns), axis-1 (rows), and flattened\n",
    "    calculations = {\n",
    "        'mean': [matrix.mean(axis=0).tolist(), matrix.mean(axis=1).tolist(), matrix.mean().tolist()],\n",
    "        'variance': [matrix.var(axis=0).tolist(), matrix.var(axis=1).tolist(), matrix.var().tolist()],\n",
    "        'standard deviation': [matrix.std(axis=0).tolist(), matrix.std(axis=1).tolist(), matrix.std().tolist()],\n",
    "        'max': [matrix.max(axis=0).tolist(), matrix.max(axis=1).tolist(), matrix.max().tolist()],\n",
    "        'min': [matrix.min(axis=0).tolist(), matrix.min(axis=1).tolist(), matrix.min().tolist()],\n",
    "        'sum': [matrix.sum(axis=0).tolist(), matrix.sum(axis=1).tolist(), matrix.sum().tolist()]\n",
    "    }\n",
    "    \n",
    "    return calculations\n",
    "\n",
    "# Example input for testing\n",
    "if __name__ == \"__main__\":\n",
    "    # Test input list\n",
    "    test_input = [0, 1, 2, 3, 4, 5, 6, 7, 8]\n",
    "    \n",
    "    # Call the function\n",
    "    try:\n",
    "        result = calculate(test_input)\n",
    "        # Print the results\n",
    "        print(\"Result:\", result)\n",
    "    except ValueError as e:\n",
    "        print(\"Error:\", e)\n"
   ]
  },
  {
   "cell_type": "code",
   "execution_count": null,
   "id": "d088fa64-3abd-4e29-993c-f73d10c1eead",
   "metadata": {},
   "outputs": [],
   "source": []
  }
 ],
 "metadata": {
  "kernelspec": {
   "display_name": "Python 3 (ipykernel)",
   "language": "python",
   "name": "python3"
  },
  "language_info": {
   "codemirror_mode": {
    "name": "ipython",
    "version": 3
   },
   "file_extension": ".py",
   "mimetype": "text/x-python",
   "name": "python",
   "nbconvert_exporter": "python",
   "pygments_lexer": "ipython3",
   "version": "3.12.7"
  }
 },
 "nbformat": 4,
 "nbformat_minor": 5
}
